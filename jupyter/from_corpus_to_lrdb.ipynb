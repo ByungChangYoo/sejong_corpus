{
 "cells": [
  {
   "cell_type": "code",
   "execution_count": 54,
   "metadata": {
    "collapsed": false
   },
   "outputs": [
    {
     "data": {
      "text/plain": [
       "479"
      ]
     },
     "execution_count": 54,
     "metadata": {},
     "output_type": "execute_result"
    }
   ],
   "source": [
    "import glob\n",
    "fnames = glob.glob('../data/processed/cd1/02_말뭉치/현대/*/*/형태분석_말뭉치/*.txt')\n",
    "len(fnames)"
   ]
  },
  {
   "cell_type": "code",
   "execution_count": 13,
   "metadata": {
    "collapsed": false
   },
   "outputs": [],
   "source": [
    "import sys\n",
    "sys.path.append('../py')\n",
    "from utils import load_processed_corpus, tageojeol_to_tuple\n",
    "from hangle import decompose, compose, moum_begin, moum_end, jaum_begin, jaum_end, kor_begin, kor_end"
   ]
  },
  {
   "cell_type": "markdown",
   "metadata": {},
   "source": [
    "주어진 (어절, 단어열, 태그열)을 이용하여 L={명사,동사,형용사,어근}, R={조사,어미}로 나뉘어지도록 어절을 나누는 함수입니다. \n",
    "\n",
    "### L=명사가 되는 경우\n",
    "\n",
    "1. 명사 + 조사: 사람/N + 은/J\n",
    "1. 명사\\* + 조사: 사람/N + 사이/N + 에/J\n",
    "1. 명사 + 명사파생접미사 + 조사: 인간/N + 성/XSN + 이/J\n",
    "1. 명사 + [동사/형용사]파생접미사 + 어미: 사용되는 = 사용/N + 되/XSV + 는/ETM\n",
    "1. 어근 + [동사/형용사]파생접미사 + 어미: 간단한 = 간단/XR + 하/XSA + ᆫ/ETM\n",
    "\n",
    "되다/하다 동사는 앞의 명사를 취하여 동사/형용사화 할 수 있지만, 이는 동사가 아닌 명사로 취급한다. 어근(XR) 역시 명사로 쓰일 수 있기 때문에 명사로 취급한다. (되다/하다 동사는 명사를 나타내는 매우 좋은 feature이다)\n",
    "\n",
    "### L=동사/형용사가 되는 경우\n",
    "\n",
    "1. 동사 + 어미: 갔다 = 가/VV + ㅆ다/E\n",
    "\n",
    "### L=동사/형용사로 인정하지 않는 경우\n",
    "\n",
    "1. 보조용언 + 어미: 있다고 = 있/VX + 다고/EC\n",
    "\n",
    "        있/VX 127462\n",
    "        하/VX 84812\n",
    "        않/VX 70039\n",
    "        지/VX 42071\n",
    "        주/VX 33671\n",
    "        보/VX 30586\n",
    "        ...\n"
   ]
  },
  {
   "cell_type": "code",
   "execution_count": 41,
   "metadata": {
    "collapsed": false
   },
   "outputs": [],
   "source": [
    "def is_all_complete_hangle(eojeol):\n",
    "    for char in eojeol:\n",
    "        if not (kor_begin <= ord(char) <= kor_end):\n",
    "            return False\n",
    "    return True\n",
    "\n",
    "def to_lr(e, w, t):\n",
    "    i = 0\n",
    "    for i_, ti in enumerate(t):\n",
    "        if not (ti[0] == 'N' or ti == 'XSN' or ti[:2] == 'VV' or ti[:2] == 'VA' or ti == 'XR'):\n",
    "            break\n",
    "        i = i_\n",
    "    lw = e[:len(''.join(w[:i+1]))]\n",
    "    r = e[len(lw):]\n",
    "    \n",
    "    # 아빤 = 아빠/N + ㄴ/J\n",
    "    # 갈꺼야 = 가/V + ㄹ/E + 꺼야/E\n",
    "    if (t[i][0] == 'N' or t[i][0] == 'V') and (jaum_begin <= ord(w[i+1][0]) <= jaum_end):\n",
    "        last_l = decompose(lw[-1])\n",
    "        l0 = lw[:-1] + compose(last_l[0], last_l[1], ' ')\n",
    "        return lw, r, t[0][0], l0\n",
    "\n",
    "    # 가? = 가/V + ㅏ/E + ?/S\n",
    "    # 먹었어 = 먹/V + 었어/E\n",
    "    return lw, r, t[0][0].replace('X','N'), ''.join(w[:i+1])\n",
    "\n",
    "def is_compound_noun(t):\n",
    "    if len(t) <= 1:\n",
    "        return False\n",
    "    n_count = len([ti for ti in t if ti[0] == 'N' or ti == 'XSN'])\n",
    "    if len(t) == n_count:\n",
    "        return True\n",
    "    if n_count <= 1:\n",
    "        return False\n",
    "    if t[0][0] == 'N' and [-1][0] == 'N':\n",
    "        return True"
   ]
  },
  {
   "cell_type": "code",
   "execution_count": 57,
   "metadata": {
    "collapsed": false
   },
   "outputs": [
    {
     "name": "stdout",
     "output_type": "stream",
     "text": [
      "L=타, R=고, tag=V, L(원형)=타\n",
      "L=가, R=는데?, tag=V, L(원형)=가\n",
      "L=갈, R=꺼야, tag=V, L(원형)=가\n",
      "L=인간성, R=이, tag=N, L(원형)=인간성\n",
      "L=사용, R=되는, tag=N, L(원형)=사용\n",
      "L=간단, R=한, tag=N, L(원형)=간단\n"
     ]
    }
   ],
   "source": [
    "def print_tolr(args):\n",
    "    print('L=%s, R=%s, tag=%s, L(원형)=%s' % args)\n",
    "\n",
    "print_tolr(to_lr(e='타고',   w=['타','고'],       t=['VV','EC']))\n",
    "print_tolr(to_lr(e='가는데?', w=['가','는데','?'], t=['VV','EF','SF']))\n",
    "print_tolr(to_lr(e='갈꺼야',  w=['가','ㄹ','꺼야'], t=['VV','E','E']))\n",
    "print_tolr(to_lr(e='인간성이', w=['인간','성','이'], t=['NNG','XSN','JE']))\n",
    "print_tolr(to_lr(e='사용되는', w=['사용','되','는'], t=['NNG','XSV','ETM']))\n",
    "print_tolr(to_lr(e='간단한',  w=['간단','하','ㄴ'], t=['XR','XSA','ETM']))"
   ]
  },
  {
   "cell_type": "code",
   "execution_count": 52,
   "metadata": {
    "collapsed": false
   },
   "outputs": [],
   "source": [
    "with open('../data/processed/lr/lrdb.csv', 'w', encoding='utf-8') as f:\n",
    "    f.write('%s\\n' % '\\t'.join(['eojeol', 'l', 'r', 'tag', 'lstemmed']))\n",
    "    for fname in fnames:\n",
    "        texts, texttags = load_processed_corpus(fname)\n",
    "        for text, tag in zip(texts, texttags):\n",
    "            for eojeol, eojeoltag in zip(text.split(), tag.split()):\n",
    "                if not is_all_complete_hangle(eojeol):\n",
    "                    continue\n",
    "                    \n",
    "                try:\n",
    "                    w, t = tageojeol_to_tuple(eojeoltag)\n",
    "                except:\n",
    "                    continue\n",
    "                \n",
    "                if len(t) <= 1:\n",
    "                    continue\n",
    "                if (t[0][0] != 'N' and t[0][0] != 'V'):\n",
    "                    continue\n",
    "                if is_compound_noun(t):\n",
    "                    continue\n",
    "\n",
    "                try:\n",
    "                    l, r, y, l0 = to_lr(eojeol, w, t)\n",
    "                    f.write('%s\\n' % '\\t'.join([eojeol, l, r, y, l0]))\n",
    "                except:\n",
    "                    continue"
   ]
  }
 ],
 "metadata": {
  "kernelspec": {
   "display_name": "Python 3",
   "language": "python",
   "name": "python3"
  },
  "language_info": {
   "codemirror_mode": {
    "name": "ipython",
    "version": 3
   },
   "file_extension": ".py",
   "mimetype": "text/x-python",
   "name": "python",
   "nbconvert_exporter": "python",
   "pygments_lexer": "ipython3",
   "version": "3.5.2"
  }
 },
 "nbformat": 4,
 "nbformat_minor": 2
}
