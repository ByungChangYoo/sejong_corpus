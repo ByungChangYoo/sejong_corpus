{
 "cells": [
  {
   "cell_type": "markdown",
   "metadata": {},
   "source": [
    "세종말뭉치의 통계를 계산하기 위하여 만든 Jupyter notebook 파일입니다. "
   ]
  },
  {
   "cell_type": "code",
   "execution_count": 1,
   "metadata": {
    "collapsed": false
   },
   "outputs": [
    {
     "data": {
      "text/plain": [
       "479"
      ]
     },
     "execution_count": 1,
     "metadata": {},
     "output_type": "execute_result"
    }
   ],
   "source": [
    "from glob import glob\n",
    "fnames = glob('../data/processed/cd1/02_말뭉치/현대/*/*/형태분석_말뭉치/*.txt')\n",
    "len(fnames)"
   ]
  },
  {
   "cell_type": "code",
   "execution_count": 2,
   "metadata": {
    "collapsed": false
   },
   "outputs": [
    {
     "name": "stdout",
     "output_type": "stream",
     "text": [
      "['뭐', '타고', '가?'] ['뭐/NP', '타/VV+고/EC', '가/VV+ㅏ/EF+?/SF']\n",
      "['지하철.'] ['지하철/NNG+./SF']\n",
      "['기차?'] ['기차/NNG+?/SF']\n",
      "['아침에', '몇', '시에', '타고', '가는데?'] ['아침/NNG+에/JKB', '몇/MM', '시/NNB+에/JKB', '타/VV+고/EC', '가/VV+는데/EF+?/SF']\n"
     ]
    }
   ],
   "source": [
    "class Documents:\n",
    "    def __init__(self, fnames, yield_text=True, yield_tag=True):\n",
    "        self.fnames = fnames\n",
    "        self.yield_text = yield_text\n",
    "        self.yield_tag = yield_tag\n",
    "    def __iter__(self):\n",
    "        if self.yield_text or self.yield_tag:\n",
    "            for fname in self.fnames:\n",
    "                with open(fname, encoding='utf-8') as f:\n",
    "                    for row in f:\n",
    "                        sent, tag = row.strip().split('\\t')\n",
    "                        if self.yield_text and self.yield_tag:\n",
    "                            yield (sent.split(), tag.split())\n",
    "                        elif self.yield_text:\n",
    "                            yield sent.split()\n",
    "                        elif self.yield_tag:\n",
    "                            yield tag.split()\n",
    "                            \n",
    "docs = Documents(fnames, yield_text=True, yield_tag=True)\n",
    "for i, (words, tags) in enumerate(docs):\n",
    "    if i > 3: break\n",
    "    print(words, tags)"
   ]
  },
  {
   "cell_type": "markdown",
   "metadata": {},
   "source": [
    "### number of sentences"
   ]
  },
  {
   "cell_type": "code",
   "execution_count": 7,
   "metadata": {
    "collapsed": false
   },
   "outputs": [
    {
     "name": "stdout",
     "output_type": "stream",
     "text": [
      "num files = 200\n",
      "num sents = 216723\n"
     ]
    }
   ],
   "source": [
    "fnames = glob('../data/processed/cd1/02_말뭉치/현대/구어/*/형태분석_말뭉치/*.txt')\n",
    "print('num files = %d' % len(fnames))\n",
    "\n",
    "docs = Documents(fnames, yield_text=True, yield_tag=False)\n",
    "for n_sent, _ in enumerate(docs):\n",
    "    continue\n",
    "print('num sents = %d' % (n_sent+1))"
   ]
  },
  {
   "cell_type": "code",
   "execution_count": 8,
   "metadata": {
    "collapsed": false
   },
   "outputs": [
    {
     "name": "stdout",
     "output_type": "stream",
     "text": [
      "num files = 279\n",
      "num sents = 837843\n"
     ]
    }
   ],
   "source": [
    "fnames = glob('../data/processed/cd1/02_말뭉치/현대/문어/*/형태분석_말뭉치/*.txt')\n",
    "print('num files = %d' % len(fnames))\n",
    "\n",
    "docs = Documents(fnames, yield_text=True, yield_tag=False)\n",
    "for n_sent, _ in enumerate(docs):\n",
    "    continue\n",
    "print('num sents = %d' % (n_sent+1))"
   ]
  },
  {
   "cell_type": "markdown",
   "metadata": {},
   "source": [
    "### number of eojeol"
   ]
  },
  {
   "cell_type": "code",
   "execution_count": 15,
   "metadata": {
    "collapsed": false
   },
   "outputs": [
    {
     "name": "stdout",
     "output_type": "stream",
     "text": [
      "num eojeols = 10807777\n",
      "unique num eojeols = 1560437\n",
      "Top 50 eojeols\n",
      "[('그', 81457),\n",
      " ('수', 68306),\n",
      " ('있다.', 56845),\n",
      " ('있는', 55802),\n",
      " ('이', 47680),\n",
      " ('한', 39459),\n",
      " ('것이다.', 37810),\n",
      " ('하는', 25381),\n",
      " ('것은', 24816),\n",
      " ('것이', 24642),\n",
      " ('그러나', 24511),\n",
      " ('할', 22909),\n",
      " ('나는', 22162),\n",
      " ('한다.', 21743),\n",
      " ('같은', 21198),\n",
      " ('있었다.', 20835),\n",
      " ('대한', 20529),\n",
      " ('또', 19782),\n",
      " ('그런', 19575),\n",
      " ('그리고', 18481),\n",
      " ('안', 17729),\n",
      " ('더', 17374),\n",
      " ('것을', 16830),\n",
      " ('우리', 16461),\n",
      " ('하고', 16312),\n",
      " ('그는', 15906),\n",
      " ('다른', 15238),\n",
      " ('때', 14866),\n",
      " ('없는', 14781),\n",
      " ('했다.', 14724),\n",
      " ('등', 14473),\n",
      " ('이런', 14375),\n",
      " ('두', 13645),\n",
      " ('내가', 13533),\n",
      " ('것', 13433),\n",
      " ('잘', 13230),\n",
      " ('다시', 13112),\n",
      " ('어떤', 12771),\n",
      " ('때문에', 12745),\n",
      " ('내', 12236),\n",
      " ('다', 11823),\n",
      " ('그의', 11120),\n",
      " ('것으로', 11046),\n",
      " ('없다.', 10544),\n",
      " ('이렇게', 10499),\n",
      " ('게', 10452),\n",
      " ('위해', 10374),\n",
      " ('가장', 10309),\n",
      " ('아니라', 10125),\n",
      " ('있을', 9922)]\n"
     ]
    }
   ],
   "source": [
    "fnames = glob('../data/processed/cd1/02_말뭉치/현대/*/*/형태분석_말뭉치/*.txt')\n",
    "print('num files = %d' % len(fnames))\n",
    "\n",
    "from collections import Counter\n",
    "docs = Documents(fnames, yield_text=True, yield_tag=False)\n",
    "counter = Counter((eojeol for sent in docs for eojeol in sent))\n",
    "        \n",
    "print('num eojeols = %d' % (sum(counter.values())))\n",
    "print('unique num eojeols = %d' % (len(counter)))\n",
    "\n",
    "print('Top 50 eojeols')\n",
    "\n",
    "from pprint import pprint\n",
    "pprint(sorted(counter.items(), key=lambda x:x[1], reverse=True)[:50])"
   ]
  },
  {
   "cell_type": "markdown",
   "metadata": {},
   "source": [
    "### number of (word,tag) pair"
   ]
  },
  {
   "cell_type": "code",
   "execution_count": 5,
   "metadata": {
    "collapsed": false
   },
   "outputs": [
    {
     "name": "stdout",
     "output_type": "stream",
     "text": [
      "num files = 479\n",
      "num (word,tag) = 24464414\n",
      "unique (word,tag) = 233023\n",
      "Top 50 (word,tag)\n",
      "[('./SF', 844440),\n",
      " ('의/JKG', 520895),\n",
      " ('을/JKO', 518468),\n",
      " ('ᆫ/ETM', 504474),\n",
      " ('다/EF', 488114),\n",
      " ('하/XSV', 458052),\n",
      " ('이/VCP', 450704),\n",
      " (',/SP', 447595),\n",
      " ('에/JKB', 416730),\n",
      " ('이/JKS', 368869),\n",
      " ('는/ETM', 355747),\n",
      " ('고/EC', 334472),\n",
      " ('는/JX', 331517),\n",
      " ('를/JKO', 299948),\n",
      " ('었/EP', 262254),\n",
      " ('은/JX', 260232),\n",
      " ('가/JKS', 245540),\n",
      " ('았/EP', 219846),\n",
      " ('하/XSA', 213519),\n",
      " ('것/NNB', 213480),\n",
      " ('어/EC', 212189),\n",
      " ('아/EC', 197251),\n",
      " ('도/JX', 176239),\n",
      " ('ᆯ/ETM', 172974),\n",
      " ('들/XSN', 172217),\n",
      " ('\"/SS', 168212),\n",
      " ('하/VV', 161492),\n",
      " ('으로/JKB', 155012),\n",
      " ('에서/JKB', 145061),\n",
      " (\"'/SS\", 130833),\n",
      " ('게/EC', 129173),\n",
      " ('있/VV', 129074),\n",
      " ('있/VX', 127462),\n",
      " ('적/XSN', 126644),\n",
      " ('로/JKB', 113025),\n",
      " ('되/XSV', 106876),\n",
      " ('은/ETM', 102896),\n",
      " ('지/EC', 99173),\n",
      " ('ᆫ다/EF', 97583),\n",
      " ('기/ETN', 96926),\n",
      " (')/SS', 96347),\n",
      " ('(/SS', 94872),\n",
      " ('수/NNB', 87306),\n",
      " ('되/VV', 85798),\n",
      " ('그/MM', 85468),\n",
      " ('하/VX', 84812),\n",
      " ('없/VA', 71620),\n",
      " ('?/SF', 71204),\n",
      " ('않/VX', 70039),\n",
      " ('과/JC', 69970)]\n"
     ]
    }
   ],
   "source": [
    "fnames = glob('../data/processed/cd1/02_말뭉치/현대/*/*/형태분석_말뭉치/*.txt')\n",
    "print('num files = %d' % len(fnames))\n",
    "\n",
    "from collections import Counter\n",
    "docs = Documents(fnames, yield_text=False, yield_tag=True)\n",
    "counter_wordtag = Counter((w for sent in docs for eojeol in sent for w in eojeol.split('+')))\n",
    "        \n",
    "print('num (word,tag) = %d' % (sum(counter_wordtag.values())))\n",
    "print('unique (word,tag) = %d' % (len(counter_wordtag)))\n",
    "\n",
    "print('Top 50 (word,tag)')\n",
    "\n",
    "from pprint import pprint\n",
    "pprint(sorted(counter_wordtag.items(), key=lambda x:x[1], reverse=True)[:50])"
   ]
  },
  {
   "cell_type": "markdown",
   "metadata": {},
   "source": [
    "### write [token, wordtag, frequency] table"
   ]
  },
  {
   "cell_type": "code",
   "execution_count": 19,
   "metadata": {
    "collapsed": false
   },
   "outputs": [
    {
     "name": "stdout",
     "output_type": "stream",
     "text": [
      "unique (eojeol,word,tag) = 1642217\n"
     ]
    }
   ],
   "source": [
    "from collections import Counter\n",
    "def to_eojeol_wordtag(sent, tags):\n",
    "    return [(word, tag) for word, tag in zip(sent, tags)]\n",
    "docs = Documents(fnames, yield_text=True, yield_tag=True)\n",
    "counter_pair = Counter((pair for sent, tags in docs for pair in to_eojeol_wordtag(sent,tags)))\n",
    "print('unique (eojeol,word,tag) = %d' % (len(counter_pair)))\n"
   ]
  },
  {
   "cell_type": "code",
   "execution_count": 22,
   "metadata": {
    "collapsed": false
   },
   "outputs": [],
   "source": [
    "with open('../data/processed/lr/tokentable.txt', 'w', encoding='utf-8') as f:\n",
    "    for (eojeol, wordtag), freq in sorted(counter_pair.items(), key=lambda x:x[1], reverse=True):\n",
    "        f.write('%s\\t%s\\t%d\\n' % (eojeol, wordtag, freq))"
   ]
  },
  {
   "cell_type": "markdown",
   "metadata": {},
   "source": [
    "## Character statistics"
   ]
  },
  {
   "cell_type": "code",
   "execution_count": 66,
   "metadata": {
    "collapsed": false
   },
   "outputs": [],
   "source": [
    "docs = Documents(fnames, yield_text=True, yield_tag=False)\n",
    "character_counter = Counter((char for doc in docs for eojeol in doc for char in eojeol))\n",
    "character_counter = sorted(character_counter.items(), key=lambda x:x[1], reverse=True)"
   ]
  },
  {
   "cell_type": "code",
   "execution_count": 71,
   "metadata": {
    "collapsed": false
   },
   "outputs": [
    {
     "name": "stdout",
     "output_type": "stream",
     "text": [
      "n character= 6624\n",
      "n hangle= 2317\n",
      "\n",
      "\n",
      "이 (1167221, 3.71 %), 다 (977169, 6.81 %), 는 (850962, 9.52 %), 에 (621290, 11.49 %)\n",
      "의 (609623, 13.43 %), 을 (582238, 15.28 %), 가 (551022, 17.03 %), 고 (548996, 18.77 %)\n",
      "하 (511458, 20.40 %), 지 (481319, 21.92 %), 그 (415148, 23.24 %), 한 (404041, 24.53 %)\n",
      "로 (402448, 25.81 %), 서 (389041, 27.04 %), 은 (387046, 28.27 %), 어 (364381, 29.43 %)\n",
      "기 (356798, 30.56 %), 나 (323632, 31.59 %), 도 (322734, 32.62 %), 아 (306072, 33.59 %)\n",
      "를 (304788, 34.56 %), 사 (300428, 35.51 %), 리 (278356, 36.39 %), 있 (271760, 37.26 %)\n",
      "들 (257388, 38.08 %), 자 (257294, 38.89 %), 대 (237144, 39.65 %), 으 (233996, 40.39 %)\n",
      "인 (227498, 41.11 %), 것 (227277, 41.83 %), 시 (219237, 42.53 %), 라 (213233, 43.21 %)\n",
      "게 (207331, 43.87 %), 해 (204475, 44.52 %), 수 (202083, 45.16 %), 니 (183153, 45.74 %)\n",
      "정 (175165, 46.30 %), 보 (168677, 46.83 %), 만 (167919, 47.37 %), 적 (167133, 47.90 %)\n",
      "일 (164002, 48.42 %), 면 (161772, 48.93 %), 었 (157697, 49.43 %), 과 (156109, 49.93 %)\n",
      "부 (151394, 50.41 %), 제 (150376, 50.89 %), 주 (147128, 51.35 %), 여 (138507, 51.79 %)\n",
      "전 (136390, 52.23 %), 상 (134604, 52.66 %), 장 (134567, 53.08 %), 구 (129907, 53.50 %)\n",
      "문 (127071, 53.90 %), 우 (117545, 54.27 %), 거 (115955, 54.64 %), 요 (114157, 55.00 %)\n",
      "내 (112497, 55.36 %), 되 (112424, 55.72 %), 러 (110573, 56.07 %), 성 (110331, 56.42 %)\n",
      "생 (107519, 56.76 %), 했 (107254, 57.10 %), 동 (104542, 57.43 %), 마 (104454, 57.77 %)\n",
      "무 (104355, 58.10 %), 소 (103415, 58.43 %), 국 (102545, 58.75 %), 신 (100787, 59.07 %)\n",
      "야 (95767, 59.38 %), 말 (95467, 59.68 %), 화 (94345, 59.98 %), 원 (92280, 60.27 %)\n",
      "없 (92176, 60.57 %), 데 (91305, 60.86 %), 경 (90527, 61.14 %), 스 (90482, 61.43 %)\n",
      "와 (88650, 61.71 %), 할 (88292, 61.99 %), 위 (87195, 62.27 %), 모 (87135, 62.55 %)\n",
      "오 (86909, 62.82 %), 비 (86275, 63.10 %), 학 (85530, 63.37 %), 조 (84792, 63.64 %)\n",
      "까 (82976, 63.90 %), 간 (81946, 64.16 %), 때 (81908, 64.42 %), 미 (78945, 64.67 %)\n",
      "안 (78630, 64.92 %), 중 (78532, 65.17 %), 세 (78164, 65.42 %), 려 (77567, 65.67 %)\n",
      "계 (77091, 65.91 %), 치 (75232, 66.15 %), 관 (74380, 66.39 %), 실 (73559, 66.62 %)\n",
      "진 (73391, 66.85 %), 선 (73359, 67.09 %), 음 (72630, 67.32 %), 않 (71829, 67.55 %)\n",
      "물 (70536, 67.77 %), 공 (70487, 67.99 %), 회 (70401, 68.22 %), 연 (68720, 68.44 %)\n",
      "유 (68229, 68.65 %), 개 (67140, 68.87 %), 방 (67061, 69.08 %), 교 (65495, 69.29 %)\n",
      "람 (64439, 69.49 %), 분 (64323, 69.70 %), 히 (63795, 69.90 %), 각 (63006, 70.10 %)\n",
      "며 (62988, 70.30 %), 단 (62205, 70.50 %), 식 (61769, 70.69 %), 바 (61753, 70.89 %)\n",
      "운 (61078, 71.08 %), 두 (60882, 71.28 %), 명 (60623, 71.47 %), 던 (57808, 71.65 %)\n",
      "된 (57618, 71.84 %), 당 (57249, 72.02 %), 체 (57165, 72.20 %), 등 (56337, 72.38 %)\n",
      "용 (56035, 72.56 %), 금 (55334, 72.73 %), 통 (54906, 72.91 %), 년 (54145, 73.08 %)\n",
      "발 (54043, 73.25 %), 래 (53764, 73.42 %), 같 (53649, 73.59 %), 작 (53528, 73.76 %)\n",
      "저 (52099, 73.93 %), 영 (51868, 74.09 %), 르 (51694, 74.26 %), 런 (51627, 74.42 %)\n",
      "더 (51179, 74.58 %), 산 (51106, 74.75 %), 았 (51076, 74.91 %), 민 (49046, 75.06 %)\n",
      "행 (49002, 75.22 %), 속 (48661, 75.37 %), 재 (48550, 75.53 %), 차 (48452, 75.68 %)\n",
      "터 (47125, 75.83 %), 반 (46991, 75.98 %), 입 (46869, 76.13 %), 업 (46754, 76.28 %)\n",
      "처 (46496, 76.43 %), 습 (46459, 76.57 %), 남 (45221, 76.72 %), 였 (44763, 76.86 %)\n",
      "심 (44451, 77.00 %), 건 (44150, 77.14 %), 현 (43911, 77.28 %), 결 (43501, 77.42 %)\n",
      "집 (42784, 77.55 %), 불 (42560, 77.69 %), 역 (41995, 77.82 %), 드 (40898, 77.95 %)\n",
      "직 (40354, 78.08 %), 양 (40014, 78.21 %), 예 (39944, 78.33 %), 감 (39482, 78.46 %)\n",
      "달 (38783, 78.58 %), 른 (38572, 78.71 %), 본 (38119, 78.83 %), 난 (37514, 78.95 %)\n",
      "점 (37447, 79.07 %), 또 (36928, 79.18 %), 렇 (36490, 79.30 %), 못 (35675, 79.41 %)\n",
      "력 (35087, 79.52 %), 설 (34907, 79.63 %), 형 (34506, 79.74 %), 후 (34421, 79.85 %)\n",
      "살 (34232, 79.96 %), 질 (34191, 80.07 %), 버 (34128, 80.18 %), 따 (34114, 80.29 %)\n",
      "배 (33987, 80.40 %), 날 (33745, 80.50 %), 노 (33222, 80.61 %), 근 (33153, 80.71 %)\n",
      "든 (33142, 80.82 %), 호 (33025, 80.92 %), 타 (32871, 81.03 %), 강 (32719, 81.13 %)\n",
      "느 (32059, 81.23 %), 알 (31952, 81.34 %), 법 (31357, 81.43 %), 트 (30869, 81.53 %)\n",
      "머 (30816, 81.63 %), 번 (30799, 81.73 %), 많 (30112, 81.82 %), 표 (30066, 81.92 %)\n",
      "울 (29709, 82.01 %), 태 (29643, 82.11 %), 천 (29584, 82.20 %), 겠 (29539, 82.30 %)\n",
      "종 (29414, 82.39 %), 론 (29254, 82.48 %), 편 (29049, 82.57 %), 받 (28513, 82.67 %)\n",
      "매 (28110, 82.75 %), 목 (27851, 82.84 %), 술 (27778, 82.93 %), 새 (27631, 83.02 %)\n",
      "외 (27610, 83.11 %), 파 (27551, 83.19 %), 임 (27347, 83.28 %), 함 (27319, 83.37 %)\n",
      "란 (27032, 83.45 %), 언 (26696, 83.54 %), 약 (26410, 83.62 %), 권 (26389, 83.71 %)\n",
      "피 (26115, 83.79 %), 출 (26077, 83.87 %), 돌 (26056, 83.96 %), 월 (25826, 84.04 %)\n",
      "포 (25611, 84.12 %), 럼 (25591, 84.20 %), 루 (25277, 84.28 %), 린 (24836, 84.36 %)\n",
      "녀 (24817, 84.44 %), 네 (24782, 84.52 %), 너 (24636, 84.59 %), 추 (24514, 84.67 %)\n",
      "합 (24338, 84.75 %), 디 (24275, 84.83 %), 록 (24096, 84.90 %), 석 (24072, 84.98 %)\n",
      "걸 (23946, 85.06 %), 군 (23876, 85.13 %), 절 (23604, 85.21 %), 열 (23514, 85.28 %)\n",
      "길 (23454, 85.36 %), 얼 (23349, 85.43 %), 청 (23255, 85.50 %), 활 (23150, 85.58 %)\n",
      "눈 (23141, 85.65 %), 온 (23127, 85.73 %), 져 (23002, 85.80 %), 향 (22885, 85.87 %)\n",
      "변 (22883, 85.94 %), 름 (22811, 86.02 %), 평 (22701, 86.09 %), 복 (22591, 86.16 %)\n",
      "초 (22462, 86.23 %), 잘 (22205, 86.30 %), 씨 (22201, 86.37 %), 올 (22187, 86.44 %)\n",
      "순 (22024, 86.51 %), 환 (21896, 86.58 %), 능 (21887, 86.65 %), 늘 (21692, 86.72 %)\n",
      "품 (21650, 86.79 %), 판 (21623, 86.86 %), 좋 (21602, 86.93 %), 손 (21476, 87.00 %)\n",
      "책 (21475, 87.06 %), 누 (21450, 87.13 %), 특 (21412, 87.20 %), 애 (21344, 87.27 %)\n",
      "준 (21305, 87.33 %), 크 (21299, 87.40 %), 랑 (21100, 87.47 %), 프 (21025, 87.54 %)\n",
      "증 (21025, 87.60 %), 막 (20927, 87.67 %), 레 (20862, 87.74 %), 백 (20581, 87.80 %)\n",
      "독 (20393, 87.87 %), 먹 (20285, 87.93 %), 담 (20234, 87.99 %), 박 (20227, 88.06 %)\n",
      "필 (19806, 88.12 %), 앞 (19749, 88.18 %), 참 (19711, 88.25 %), 최 (19656, 88.31 %)\n",
      "격 (19525, 88.37 %), 왔 (19480, 88.43 %), 키 (19410, 88.50 %), 급 (19238, 88.56 %)\n",
      "워 (19141, 88.62 %), 족 (19048, 88.68 %), 놓 (18891, 88.74 %), 김 (18756, 88.80 %)\n",
      "별 (18588, 88.86 %), 확 (18473, 88.92 %), 육 (18164, 88.97 %), 병 (18122, 89.03 %)\n",
      "토 (18052, 89.09 %), 쪽 (17754, 89.14 %), 님 (17686, 89.20 %), 줄 (17666, 89.26 %)\n",
      "친 (17546, 89.31 %), 될 (17383, 89.37 %), 겨 (17295, 89.42 %), 창 (17207, 89.48 %)\n",
      "잡 (17166, 89.53 %), 료 (16996, 89.59 %), 벌 (16907, 89.64 %), 듯 (16893, 89.69 %)\n",
      "련 (16749, 89.75 %), 뭐 (16747, 89.80 %), 침 (16721, 89.85 %), 갈 (16700, 89.91 %)\n",
      "뒤 (16587, 89.96 %), 쓰 (16470, 90.01 %), 죽 (16402, 90.06 %), 렸 (16247, 90.11 %)\n",
      "투 (16242, 90.17 %), 망 (16204, 90.22 %), 냐 (16126, 90.27 %), 극 (16041, 90.32 %)\n",
      "북 (15909, 90.37 %), 곳 (15867, 90.42 %), 채 (15799, 90.47 %), 철 (15433, 90.52 %)\n",
      "졌 (15366, 90.57 %), 삼 (15144, 90.62 %), 움 (15022, 90.66 %), 혼 (14873, 90.71 %)\n",
      "험 (14566, 90.76 %), 승 (14507, 90.80 %), 광 (14495, 90.85 %), 께 (14411, 90.90 %)\n",
      "쳐 (14376, 90.94 %), 존 (14314, 90.99 %), 맞 (14219, 91.03 %), 갔 (14123, 91.08 %)\n",
      "테 (13889, 91.12 %), 색 (13887, 91.17 %), 림 (13886, 91.21 %), 억 (13685, 91.25 %)\n",
      "떤 (13672, 91.30 %), 찾 (13630, 91.34 %), 써 (13308, 91.38 %), 굴 (13295, 91.42 %)\n",
      "황 (13284, 91.47 %), 허 (13220, 91.51 %), 악 (13175, 91.55 %), 글 (13087, 91.59 %)\n",
      "쟁 (13036, 91.63 %), 류 (13030, 91.67 %), 락 (12959, 91.72 %), 떠 (12933, 91.76 %)\n",
      "항 (12931, 91.80 %), 립 (12919, 91.84 %), 견 (12901, 91.88 %), 볼 (12854, 91.92 %)\n",
      "빠 (12830, 91.96 %), 농 (12827, 92.00 %), 희 (12745, 92.04 %), 령 (12685, 92.08 %)\n",
      "갖 (12655, 92.12 %), 코 (12649, 92.16 %), 긴 (12647, 92.20 %), 끼 (12632, 92.24 %)\n",
      "뿐 (12592, 92.28 %), 접 (12566, 92.32 %), 밖 (12557, 92.36 %), 응 (12549, 92.40 %)\n",
      "싶 (12389, 92.44 %), 축 (12370, 92.48 %), 큰 (12337, 92.52 %), 끝 (12093, 92.56 %)\n",
      "송 (12007, 92.60 %), 규 (11834, 92.64 %), 카 (11798, 92.67 %), 취 (11703, 92.71 %)\n",
      "귀 (11607, 92.75 %), 논 (11586, 92.78 %), 엄 (11580, 92.82 %), 좀 (11524, 92.86 %)\n",
      "왜 (11456, 92.89 %), 충 (11334, 92.93 %), 힘 (11016, 92.96 %), 얘 (11011, 93.00 %)\n",
      "총 (10972, 93.03 %), 혀 (10932, 93.07 %), 째 (10906, 93.10 %), 몸 (10870, 93.14 %)\n",
      "밀 (10749, 93.17 %), 십 (10667, 93.21 %), 답 (10627, 93.24 %), 검 (10570, 93.27 %)\n",
      "잠 (10548, 93.31 %), 났 (10528, 93.34 %), 골 (10487, 93.37 %), 떻 (10323, 93.41 %)\n",
      "완 (10161, 93.44 %), 돈 (10138, 93.47 %), 몇 (10106, 93.50 %), 럽 (10066, 93.54 %)\n",
      "떨 (9725, 93.57 %), 범 (9725, 93.60 %), 꾸 (9705, 93.63 %), 몰 (9654, 93.66 %)\n",
      "커 (9641, 93.69 %), 협 (9626, 93.72 %), 높 (9582, 93.75 %), 웃 (9566, 93.78 %)\n",
      "넘 (9455, 93.81 %), 익 (9442, 93.84 %), 둘 (9435, 93.87 %), 득 (9426, 93.90 %)\n",
      "깨 (9339, 93.93 %), 왕 (9338, 93.96 %), 찰 (9297, 93.99 %), 앉 (9212, 94.02 %)\n",
      "량 (9205, 94.05 %), 측 (9172, 94.08 %), 닌 (9135, 94.11 %), 숙 (9058, 94.13 %)\n",
      "찬 (9047, 94.16 %), 념 (8967, 94.19 %), 효 (8888, 94.22 %), 돼 (8813, 94.25 %)\n",
      "엇 (8809, 94.28 %), 죠 (8777, 94.30 %), 놀 (8760, 94.33 %), 택 (8724, 94.36 %)\n",
      "켜 (8709, 94.39 %), 풍 (8669, 94.41 %), 및 (8572, 94.44 %), 붙 (8492, 94.47 %)\n",
      "짜 (8448, 94.50 %), 먼 (8403, 94.52 %), 덕 (8332, 94.55 %), 엔 (8315, 94.58 %)\n",
      "팔 (8310, 94.60 %), 봉 (8301, 94.63 %), 슨 (8279, 94.65 %), 잖 (8271, 94.68 %)\n",
      "큼 (8224, 94.71 %), 혁 (8138, 94.73 %), 됐 (8090, 94.76 %), 뜻 (8068, 94.78 %)\n",
      "메 (8022, 94.81 %), 례 (7999, 94.84 %), 싸 (7997, 94.86 %), 밤 (7964, 94.89 %)\n",
      "혹 (7859, 94.91 %), 즉 (7822, 94.94 %), 착 (7821, 94.96 %), 패 (7789, 94.99 %)\n",
      "풀 (7623, 95.01 %), 층 (7623, 95.03 %), 밝 (7554, 95.06 %), 욱 (7508, 95.08 %)\n",
      "욕 (7492, 95.11 %), 베 (7486, 95.13 %), 릴 (7459, 95.15 %), 짓 (7455, 95.18 %)\n",
      "폭 (7417, 95.20 %), 탄 (7409, 95.22 %), 율 (7329, 95.25 %), 냥 (7193, 95.27 %)\n",
      "칠 (7159, 95.29 %), 티 (7123, 95.32 %), 벽 (7053, 95.34 %), 갑 (7003, 95.36 %)\n",
      "봐 (6966, 95.38 %), 틀 (6961, 95.40 %), 므 (6960, 95.43 %), 땅 (6947, 95.45 %)\n",
      "슬 (6836, 95.47 %), 삶 (6771, 95.49 %), 획 (6767, 95.51 %), 케 (6627, 95.53 %)\n",
      "곡 (6613, 95.55 %), 징 (6601, 95.58 %), 숨 (6582, 95.60 %), 객 (6550, 95.62 %)\n",
      "탈 (6520, 95.64 %), 씩 (6508, 95.66 %), 빛 (6503, 95.68 %), 놈 (6452, 95.70 %)\n",
      "잔 (6380, 95.72 %), 곧 (6309, 95.74 %), 염 (6248, 95.76 %), 암 (6229, 95.78 %)\n",
      "뜨 (6170, 95.80 %), 빨 (6154, 95.82 %), 꽃 (6135, 95.84 %), 흔 (6109, 95.86 %)\n",
      "낸 (5971, 95.88 %), 곤 (5966, 95.90 %), 읽 (5959, 95.92 %), 첫 (5934, 95.93 %)\n",
      "궁 (5806, 95.95 %), 닥 (5790, 95.97 %), 윤 (5767, 95.99 %), 웠 (5755, 96.01 %)\n",
      "넣 (5728, 96.03 %), 끌 (5724, 96.04 %), 척 (5654, 96.06 %), 즘 (5653, 96.08 %)\n"
     ]
    }
   ],
   "source": [
    "hangle_counter = [(c, f) for c, f in character_counter if 44032 <= ord(c) <= 55203]\n",
    "hangle_sum = sum((f for _, f in hangle_counter))\n",
    "\n",
    "print('n character= %d' % len(character_counter))\n",
    "print('n hangle= %d\\n\\n' % len(hangle_counter))\n",
    "\n",
    "cum_ = 0\n",
    "for i, (c, f) in enumerate(hangle_counter[:500]):\n",
    "    cum_ += f\n",
    "    if i % 4 == 3:\n",
    "        print('%s (%d, %.2f %s)' % (c, f, 100*cum_/hangle_sum, '%') ,end='\\n')\n",
    "    else:\n",
    "        print('%s (%d, %.2f %s)' % (c, f, 100*cum_/hangle_sum, '%') ,end=', ')"
   ]
  },
  {
   "cell_type": "markdown",
   "metadata": {},
   "source": [
    "## (word, tag) statistics"
   ]
  },
  {
   "cell_type": "code",
   "execution_count": 129,
   "metadata": {
    "collapsed": false
   },
   "outputs": [
    {
     "name": "stdout",
     "output_type": "stream",
     "text": [
      "n (word/tag) = 233023\n",
      "n tag = 60\n",
      "n tag (level 0) = 9\n"
     ]
    }
   ],
   "source": [
    "def is_tag(tag):\n",
    "    for t in tag:\n",
    "        if not (65 <= ord(t) <= 90):\n",
    "            return False\n",
    "    return True\n",
    "\n",
    "docs = Documents(fnames, yield_text=False, yield_tag=True)\n",
    "wordtag_counter = Counter((wt for doc in docs for eojeol in doc for wt in eojeol.split('+')))\n",
    "print('n (word/tag) = %d' % len(wordtag_counter))\n",
    "\n",
    "tag_counter = Counter((wt.split('/')[-1] for doc in docs for eojeol in doc for wt in eojeol.split('+')))\n",
    "print('n tag = %d' % len({tag for tag in tag_counter if is_tag(tag)}))\n",
    "\n",
    "tag_l0_counter = Counter((wt.split('/')[-1][0] for doc in docs for eojeol in doc for wt in eojeol.split('+') if wt.split('/')[0]))\n",
    "print('n tag (level 0) = %d' % len({tag for tag in tag_l0_counter if is_tag(tag)}))"
   ]
  },
  {
   "cell_type": "code",
   "execution_count": 127,
   "metadata": {
    "collapsed": false
   },
   "outputs": [
    {
     "name": "stdout",
     "output_type": "stream",
     "text": [
      "NNG: (5423295, 22.168 %)\n",
      "VV: (1847882, 7.553 %)\n",
      "EC: (1774216, 7.252 %)\n",
      "ETM: (1356148, 5.543 %)\n",
      "JKB: (1023071, 4.182 %)\n",
      "JX: (953858, 3.899 %)\n",
      "SF: (930944, 3.805 %)\n",
      "EF: (869235, 3.553 %)\n",
      "JKO: (830502, 3.395 %)\n",
      "NNB: (751990, 3.074 %)\n",
      "MAG: (713017, 2.915 %)\n",
      "JKS: (623600, 2.549 %)\n",
      "XSV: (582283, 2.380 %)\n",
      "SS: (569874, 2.329 %)\n",
      "EP: (558982, 2.285 %)\n",
      "JKG: (521486, 2.132 %)\n",
      "VX: (514576, 2.103 %)\n",
      "SP: (494628, 2.022 %)\n",
      "NNP: (469068, 1.917 %)\n",
      "VCP: (467462, 1.911 %)\n",
      "XSN: (439658, 1.797 %)\n",
      "VA: (429078, 1.754 %)\n",
      "NP: (386861, 1.581 %)\n",
      "MM: (346899, 1.418 %)\n",
      "SN: (253364, 1.036 %)\n",
      "XSA: (230358, 0.942 %)\n",
      "JC: (149972, 0.613 %)\n",
      "XR: (133908, 0.547 %)\n",
      "ETN: (129824, 0.531 %)\n",
      "MAJ: (117480, 0.480 %)\n",
      "NR: (91895, 0.376 %)\n",
      "IC: (82047, 0.335 %)\n",
      "SL: (73109, 0.299 %)\n",
      "SH: (59171, 0.242 %)\n",
      "JKC: (58901, 0.241 %)\n",
      "VCN: (49741, 0.203 %)\n",
      "XPN: (44791, 0.183 %)\n",
      "SW: (32540, 0.133 %)\n",
      "SE: (27716, 0.113 %)\n",
      "JKQ: (18922, 0.077 %)\n",
      "SO: (7423, 0.030 %)\n",
      "UNC: (6506, 0.027 %)\n",
      "UNA: (6361, 0.026 %)\n",
      "UNT: (5768, 0.024 %)\n",
      "JKV: (3920, 0.016 %)\n",
      "NA: (1525, 0.006 %)\n",
      ": (529, 0.002 %)\n",
      "NG: (3, 0.000 %)\n",
      "NNGG: (2, 0.000 %)\n",
      "S: (2, 0.000 %)\n",
      "JKSS: (1, 0.000 %)\n",
      "NN: (1, 0.000 %)\n",
      "V: (1, 0.000 %)\n",
      "JKBB: (1, 0.000 %)\n",
      "MAC: (1, 0.000 %)\n",
      "MMM: (1, 0.000 %)\n",
      "EEC: (1, 0.000 %)\n",
      "JG: (1, 0.000 %)\n",
      "VSV: (1, 0.000 %)\n",
      "MAAG: (1, 0.000 %)\n"
     ]
    }
   ],
   "source": [
    "sum_ = sum(tag_counter.values())\n",
    "for tag, freq in sorted(tag_counter.items(), key=lambda x:x[1], reverse=True):\n",
    "    if not is_tag(tag):\n",
    "        continue\n",
    "    print('%s: (%d, %.3f %s)' % (tag, freq, 100*freq/sum_, '%'))"
   ]
  },
  {
   "cell_type": "code",
   "execution_count": 130,
   "metadata": {
    "collapsed": false
   },
   "outputs": [
    {
     "name": "stdout",
     "output_type": "stream",
     "text": [
      "N: (7124644, 29.128)\n",
      "E: (4688406, 19.168)\n",
      "J: (4184235, 17.107)\n",
      "V: (3308743, 13.527)\n",
      "S: (2444442, 9.994)\n",
      "X: (1430998, 5.850)\n",
      "M: (1177399, 4.814)\n",
      "I: (82047, 0.335)\n",
      "U: (18635, 0.076)\n"
     ]
    }
   ],
   "source": [
    "sum_ = sum(tag_l0_counter.values())\n",
    "for tag, freq in sorted(tag_l0_counter.items(), key=lambda x:x[1], reverse=True):\n",
    "    if not is_tag(tag):\n",
    "        continue\n",
    "    print('%s: (%d, %.3f)' % (tag, freq, 100*freq/sum_))"
   ]
  },
  {
   "cell_type": "markdown",
   "metadata": {},
   "source": [
    "## Noun length statistics"
   ]
  },
  {
   "cell_type": "code",
   "execution_count": 124,
   "metadata": {
    "collapsed": false
   },
   "outputs": [
    {
     "name": "stdout",
     "output_type": "stream",
     "text": [
      "length = 1 (1647186, 23.118 %)\n",
      "length = 2 (4491998, 63.044 %)\n",
      "length = 3 (763624, 10.717 %)\n",
      "length = 4 (171364, 2.405 %)\n",
      "length = 5 (32734, 0.459 %)\n",
      "length = 6 (10796, 0.152 %)\n",
      "length = 7 (4715, 0.066 %)\n",
      "length = 8 (1641, 0.023 %)\n",
      "length = 9 (608, 0.009 %)\n",
      "length = 10 (275, 0.004 %)\n",
      "length = 11 (138, 0.002 %)\n",
      "\n",
      "\n",
      "noun (length is 11)\n",
      "\n",
      "이십일세기세종전자사전/NNP\n",
      "한국여성경영자총연합회/NNP\n",
      "한국대학로켓연구연합회/NNP\n",
      "전국한약관련학과협의회/NNP\n",
      "MCI커뮤니케이션즈사/NNP\n",
      "한국여성중소기업인협회/NNP\n",
      "남북인간띠잇기대회본부/NNP\n",
      "유니벌씨티오브알라바마/NNP\n",
      "부산부일외국어고등학교/NNP\n",
      "대한무역투자진흥공공사/NNP\n",
      "다임러크라이슬러코리아/NNP\n",
      "전남동부지역사회연구소/NNP\n",
      "한국한국가정법률상담소/NNP\n",
      "런던스쿨오브이코노믹스/NNP\n",
      "오프토테크놀러지컴퍼니/NNP\n",
      "니꼴스끄­우쑤리이스끄/NNP\n",
      "서울지역신문노조협의회/NNP\n",
      "조선문화건설중앙협의회/NNP\n",
      "영월댐백지화투쟁위원회/NNP\n",
      "슬로베니아민주야당연합/NNP\n",
      "한국방송프로듀서연합회/NNP\n",
      "전민족유일당조직협의회/NNP\n",
      "전국신문통신노조협의회/NNP\n",
      "한국교정교화사업연구소/NNP\n",
      "한국민속종합조사보고서/NNP\n",
      "지장보살점찰선악업보경/NNP\n",
      "황룡사9층목탑찰주본기/NNP\n",
      "한국자동차공업협동조합/NNP\n",
      "중화민국출판도서목록회/NNP\n",
      "서울초등교육정책연구회/NNP\n",
      "전국여성자원봉사자대회/NNP\n",
      "대구시립소년소녀합창단/NNP\n",
      "사우스차이나모닝포스트/NNP\n",
      "네바다라스베이거스대학/NNP\n",
      "한국신문방송편집인협회/NNP\n",
      "한국정보통신기술사협회/NNP\n",
      "국제자유도시추진기획단/NNP\n",
      "한국근대문예비평사연구/NNP\n",
      "한국바이오벤처기업협회/NNP\n",
      "밀양댐맑은물대책위원회/NNP\n",
      "한국능률협회매니지먼트/NNP\n",
      "한국광복운동단체연합회/NNP\n",
      "베이징가육배훈유한공사/NNP\n",
      "한국환경사회정책연구소/NNP\n",
      "동양오리온투자신탁증권/NNP\n",
      "와이어헤어드폭스테리어/NNG\n",
      "코린아세틸트란스퍼라제/NNG\n",
      "조선민주주의인민공화국/NNP\n",
      "국제전신전화자문위원회/NNP\n",
      "국가생명윤리심의위원회/NNP\n",
      "제록스(Xerox)사/NNP\n",
      "서울무형문화재전수회관/NNP\n",
      "조선민족해방운동자동맹/NNP\n",
      "한국방송영상산업진흥원/NNP\n",
      "한국양성평등교육진흥원/NNP\n",
      "서울민주청년단체협의회/NNP\n",
      "지이시이이임귀며어엉례/NNG\n",
      "한국근대민족해방운동사/NNP\n",
      "한국예술가곡진흥위원회/NNP\n",
      "한국어세계화추진위원회/NNP\n",
      "울산지역환경보전협의회/NNP\n",
      "국제아동청소년연극협회/NNP\n",
      "앙골라완전독립민족동맹/NNP\n",
      "카톨릭매스컴선교위원회/NNP\n",
      "한국기능미화중앙협의회/NNP\n",
      "소프트뱅크벤처스코리아/NNP\n",
      "갈락토실트랜스퍼레이즈/NNG\n",
      "아시아주니어선수권대회/NNP\n",
      "한국문예학술저작권협회/NNP\n",
      "구한국지방행정명칭일람/NNP\n",
      "국민정신총동원조선연맹/NNP\n",
      "한국근현대민족문학총서/NNP\n",
      "제주적십자봉사회협의회/NNP\n",
      "컴퓨터프로그램표준조항/NNG\n",
      "전국한의대학부모협의회/NNP\n",
      "전국여성경영인총연합회/NNP\n",
      "한국소프트웨어산업협회/NNP\n",
      "노인일쾌사육수효향산체/NNG\n",
      "유엔캄보디아과도행정부/NNP\n",
      "한국여성노동자회협의회/NNP\n",
      "아시아태평양경제협력체/NNP\n",
      "한국민족문화대백과사전/NNP\n",
      "중국유색금속공업총공사/NNP\n",
      "한국장애인고용촉진공단/NNP\n",
      "블라자미르레베르스토프/NNP\n",
      "소비에트사회주의공화국/NNP\n",
      "한국아동복지시설연합회/NNP\n",
      "한국양돈협동조합연합회/NNP\n",
      "국제그룹복권추진위원회/NNP\n"
     ]
    }
   ],
   "source": [
    "def is_noun(pair):\n",
    "    if ('NG' in pair) or ('NN' in pair) or ('NP' in pair) or ('NR' in pair):\n",
    "        return True\n",
    "    return False\n",
    "\n",
    "noun_counter = {pair:freq for pair, freq in wordtag_counter.items() if is_noun(pair)}\n",
    "\n",
    "noun_length_counter = {}\n",
    "for pair, freq in noun_counter.items():\n",
    "    n = len(pair.split('/')[0])\n",
    "    noun_length_counter[n] = noun_length_counter.get(n, 0) + freq\n",
    "\n",
    "sum_ = sum(noun_length_counter.values())\n",
    "for n, freq in sorted(noun_length_counter.items()):\n",
    "    print('length = %d (%d, %.3f %s)' % (n, freq, 100*freq/sum_, '%'))\n",
    "    if n == 11: break\n",
    "\n",
    "print('\\n\\nnoun (length is 11)\\n')\n",
    "for pair, freq in noun_counter.items():\n",
    "    n = len(pair.split('/')[0])\n",
    "    if n == 11:\n",
    "        print(pair)"
   ]
  },
  {
   "cell_type": "markdown",
   "metadata": {},
   "source": [
    "## compound noun as noun"
   ]
  },
  {
   "cell_type": "code",
   "execution_count": 131,
   "metadata": {
    "collapsed": false
   },
   "outputs": [
    {
     "name": "stdout",
     "output_type": "stream",
     "text": [
      "n noun + compound= 266732\n"
     ]
    }
   ],
   "source": [
    "def parse_compound_nouns(eojeol):\n",
    "    eojeol = [wt.split('/') for wt in eojeol.split('+') if len(wt.split('/')) == 2]\n",
    "    nouns = ''\n",
    "    for i, (wi, ti) in enumerate(eojeol):\n",
    "        if ti[:2] == 'NN' or ti[:2] == 'NP' or ti[:2] == 'NG' or ti[:2] == 'NR' or ti == 'XSN':\n",
    "            nouns += wi\n",
    "        else:\n",
    "            break\n",
    "    return nouns\n",
    "\n",
    "# docs = Documents(fnames, yield_text=False, yield_tag=True)\n",
    "# eojeol_counter = Counter((eojeol for sent in docs for eojeol in sent))\n",
    "compound_nouns = {}\n",
    "\n",
    "for i, (eojeol, freq) in enumerate(eojeol_counter.items()):\n",
    "    noun = parse_compound_nouns(eojeol)\n",
    "    if not noun: continue\n",
    "    compound_nouns[noun] = compound_nouns.get(noun, 0) + freq\n",
    "print('n noun + compound= %d' % len(compound_nouns))"
   ]
  },
  {
   "cell_type": "code",
   "execution_count": 132,
   "metadata": {
    "collapsed": false
   },
   "outputs": [
    {
     "name": "stdout",
     "output_type": "stream",
     "text": [
      "length = 1 (1263396, 20.172 %)\n",
      "length = 2 (3522828, 56.247 %)\n",
      "length = 3 (973362, 15.541 %)\n",
      "length = 4 (375754, 5.999 %)\n",
      "length = 5 (80711, 1.289 %)\n",
      "length = 6 (31213, 0.498 %)\n",
      "length = 7 (9749, 0.156 %)\n",
      "length = 8 (3955, 0.063 %)\n",
      "length = 9 (1281, 0.020 %)\n",
      "length = 10 (557, 0.009 %)\n",
      "length = 11 (222, 0.004 %)\n",
      "length = 12 (74, 0.001 %)\n",
      "length = 13 (23, 0.000 %)\n",
      "length = 14 (10, 0.000 %)\n",
      "length = 15 (7, 0.000 %)\n",
      "length = 16 (4, 0.000 %)\n",
      "length = 17 (3, 0.000 %)\n",
      "length = 22 (1, 0.000 %)\n"
     ]
    }
   ],
   "source": [
    "noun_length_counter = {}\n",
    "for noun, freq in compound_nouns.items():\n",
    "    n = len(noun)\n",
    "    noun_length_counter[n] = noun_length_counter.get(n, 0) + freq\n",
    "\n",
    "sum_ = sum(noun_length_counter.values())\n",
    "for n, freq in sorted(noun_length_counter.items()):\n",
    "    print('length = %d (%d, %.3f %s)' % (n, freq, 100*freq/sum_, '%'))\n",
    "#     if n == 11: break"
   ]
  },
  {
   "cell_type": "code",
   "execution_count": 116,
   "metadata": {
    "collapsed": false
   },
   "outputs": [
    {
     "name": "stdout",
     "output_type": "stream",
     "text": [
      "한국사교양국사연구회청아출판사\n",
      "소니컴퓨터엔터테인먼트코리아\n",
      "에스에스더불유오에이아이케이아이\n",
      "민속교육자료집봉천놀이마당우리교육\n",
      "꼬사끄(Cossack)인들\n",
      "전국남녀중고등학교대항테니스대회\n",
      "파라다이스여자인비테이셔널골프대회\n",
      "발레오만도전장시스템스코리아\n",
      "사구체요세관집합관신우요관방광요도\n",
      "서울경인사무서비스직노동조합\n",
      "월드어소시에이션어브엔지오스\n",
      "서울YMCA시청자시민운동본부\n",
      "역사민속학연구한국역사민속학회\n",
      "한국음식료품도매업협동조합연합회\n",
      "멘로이그라흐트(Menleugracht)법\n",
      "직원조회사항학급일지기록훈련\n",
      "서울국제만화애니메이션페스티벌\n",
      "서울노동자문화예술단체협의회\n",
      "세계혼합단체배드민턴선수권대회\n",
      "시아본사아아서어어가아모니이이불\n",
      "서울국제아동청소년공연예술제\n",
      "부산아시아경기대회조직위원회\n"
     ]
    }
   ],
   "source": [
    "for noun, freq in compound_nouns.items():\n",
    "    n = len(noun)\n",
    "    if n >= 14:\n",
    "        print(noun)\n"
   ]
  },
  {
   "cell_type": "markdown",
   "metadata": {},
   "source": [
    "## Verb and Adjective statistics"
   ]
  },
  {
   "cell_type": "code",
   "execution_count": 125,
   "metadata": {
    "collapsed": false
   },
   "outputs": [
    {
     "name": "stdout",
     "output_type": "stream",
     "text": [
      "length = 1 (1169712, 51.371 %)\n",
      "length = 2 (803850, 35.303 %)\n",
      "length = 3 (262088, 11.510 %)\n",
      "length = 4 (38221, 1.679 %)\n",
      "length = 5 (3006, 0.132 %)\n",
      "length = 6 (121, 0.005 %)\n",
      "length = 7 (2, 0.000 %)\n",
      "length = 8 (7, 0.000 %)\n",
      "\n",
      "\n",
      "verb (length is 8)\n",
      "\n",
      "조물락조물락거리/VV\n",
      "오무락조무락거리/VV\n",
      "수군덕수군덕거리/VV\n",
      "허우적허우적거리/VV\n",
      "바스락바스락거리/VV\n",
      "으르렁으르렁거리/VV\n",
      "엎치락뒤치락거리/VV\n"
     ]
    }
   ],
   "source": [
    "def is_verb_or_adjective(pair):\n",
    "    if ('VV' in pair) or ('VA' in pair):\n",
    "        return True\n",
    "    return False\n",
    "\n",
    "v_counter = {pair:freq for pair, freq in wordtag_counter.items() if is_verb_or_adjective(pair)}\n",
    "\n",
    "v_length_counter = {}\n",
    "for pair, freq in v_counter.items():\n",
    "    n = len(pair.split('/')[0])\n",
    "    v_length_counter[n] = v_length_counter.get(n, 0) + freq\n",
    "\n",
    "sum_ = sum(v_length_counter.values())\n",
    "for n, freq in sorted(v_length_counter.items()):\n",
    "    print('length = %d (%d, %.3f %s)' % (n, freq, 100*freq/sum_, '%'))\n",
    "\n",
    "print('\\n\\nverb (length is 8)\\n')\n",
    "for pair, freq in v_counter.items():\n",
    "    n = len(pair.split('/')[0])\n",
    "    if n == 8:\n",
    "        print(pair)"
   ]
  },
  {
   "cell_type": "markdown",
   "metadata": {},
   "source": [
    "## tokentable line grep\n",
    "\n",
    "Jupyter notebook 에서 query가 들어있는 단어를 읽을 수 있도록 likesearch를 만들어 두었습니다. "
   ]
  },
  {
   "cell_type": "code",
   "execution_count": 9,
   "metadata": {
    "collapsed": true
   },
   "outputs": [],
   "source": [
    "def likesearch(query, topk=100):\n",
    "    n_count = 0\n",
    "    with open('../data/processed/lr/tokentable.txt', encoding='utf-8') as f:\n",
    "        for row in f:\n",
    "            if n_count >= topk: break\n",
    "            if query in row:\n",
    "                n_count += 1\n",
    "                print(row.strip())"
   ]
  },
  {
   "cell_type": "code",
   "execution_count": 62,
   "metadata": {
    "collapsed": false
   },
   "outputs": [
    {
     "name": "stdout",
     "output_type": "stream",
     "text": [
      "정말\t정말/MAG\t4039\n",
      "정말로\t정말로/MAG\t514\n",
      "\"정말\t\"/SS+정말/MAG\t204\n",
      "정말,\t정말/MAG+,/SP\t123\n",
      "정말이지\t정말/NNG+이/VCP+지/EC\t85\n",
      "정말?\t정말/MAG+?/SF\t76\n",
      "정말.\t정말/MAG+./SF\t47\n",
      "정::말\t정말/MAG\t20\n",
      "정말이지\t정말/MAG+이/VCP+지/EC\t20\n",
      "정말요?\t정말/MAG+요/JX+?/SF\t16\n",
      "정말로,\t정말로/MAG+,/SP\t15\n",
      "'정말\t'/SS+정말/MAG\t15\n",
      "\"정말?\"\t\"/SS+정말/MAG+?/SF+\"/SS\t12\n",
      "\"정말,\t\"/SS+정말/MAG+,/SP\t11\n",
      "\"정말로\t\"/SS+정말로/MAG\t10\n",
      "\"정말?\t\"/SS+정말/MAG+?/SF\t10\n",
      "\"정말입니다.\t\"/SS+정말/NNG+이/VCP+ᄇ니다/EF+./SF\t8\n",
      "정말이야.\t정말/NNG+이/VCP+야/EF+./SF\t7\n",
      "정말<phon>증말</phon>\t정말/MAG\t7\n",
      "\"정말이지\t\"/SS+정말/NNG+이/VCP+지/EC\t7\n",
      "정말은\t정말/NNG+은/JX\t6\n",
      "정말이야,\t정말/NNG+이/VCP+야/EC+,/SP\t6\n",
      "정말::\t정말/MAG\t6\n",
      "정말.\"\t정말/MAG+./SF+\"/SS\t6\n",
      "정말이냐!\t정말/NNG+이/VCP+냐/EF+!/SF\t6\n",
      "정말!\"\t정말/MAG+!/SF+\"/SS\t6\n",
      "정말!\t정말/MAG+!/SF\t5\n",
      "정말이에요.\t정말/NNG+이/VCP+에요/EF+./SF\t5\n",
      "정말이지,\t정말/NNG+이/VCP+지/EC+,/SP\t5\n",
      "\"정말이에요.\"\t\"/SS+정말/NNG+이/VCP+에요/EF+./SF+\"/SS\t5\n"
     ]
    }
   ],
   "source": [
    "likesearch('정말', topk=30)"
   ]
  },
  {
   "cell_type": "code",
   "execution_count": null,
   "metadata": {
    "collapsed": true
   },
   "outputs": [],
   "source": []
  }
 ],
 "metadata": {
  "kernelspec": {
   "display_name": "Python 3",
   "language": "python",
   "name": "python3"
  },
  "language_info": {
   "codemirror_mode": {
    "name": "ipython",
    "version": 3
   },
   "file_extension": ".py",
   "mimetype": "text/x-python",
   "name": "python",
   "nbconvert_exporter": "python",
   "pygments_lexer": "ipython3",
   "version": "3.5.2"
  }
 },
 "nbformat": 4,
 "nbformat_minor": 2
}
