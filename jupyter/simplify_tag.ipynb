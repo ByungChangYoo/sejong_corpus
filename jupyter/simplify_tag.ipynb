{
 "cells": [
  {
   "cell_type": "code",
   "execution_count": 2,
   "metadata": {
    "collapsed": true
   },
   "outputs": [],
   "source": [
    "import sys\n",
    "sys.path.append('../py/')\n",
    "\n",
    "from simplify import Nouns, PostfixNouns, process"
   ]
  },
  {
   "cell_type": "code",
   "execution_count": 3,
   "metadata": {
    "collapsed": false
   },
   "outputs": [
    {
     "name": "stdout",
     "output_type": "stream",
     "text": [
      "[('내', 'MM'), ('초코우유', 'Noun'), ('는', 'J')]\n",
      "[('내초코우유', 'Noun'), ('에', 'J'), ('는', 'J')]\n",
      "[('내초코우유', 'Noun'), ('에는', 'Josa')]\n",
      "[('내초코우유', 'Noun'), ('는', 'Josa')]\n",
      "[('내제3초코우유', 'Noun'), ('는', 'Josa')]\n",
      "[('내초코', 'Noun'), ('같', 'Adjective'), ('은', 'Eomi')]\n",
      "[('내초코', 'Noun'), ('먹', 'Verb'), ('은', 'Eomi')]\n",
      "[('내초코', 'Noun'), ('아니', 'Verb'), ('다', 'Eomi')]\n",
      "[('안먹', 'Verb'), ('는다', 'Eomi')]\n",
      "[('사실', 'Noun'), ('이', 'Adjective'), ('다', 'Eomi')]\n",
      "[('개초초대박', 'Noun'), ('이', 'Adjective'), ('ㄴ데', 'Eomi')]\n",
      "[('동원', 'Noun'), ('해서', 'Adjective'), ('라도', 'Eomi')]\n",
      "[('내제3초코우유', 'Noun'), ('는', 'Josa')]\n"
     ]
    }
   ],
   "source": [
    "print(Nouns([('내', 'MM'), ('초코','NN'), ('우유', 'NN'), ('는', 'J')]))\n",
    "print(PostfixNouns([('내', 'MM'), ('초코','NN'), ('우유', 'NN'), ('에', 'J'), ('는', 'J')]))\n",
    "print(process([('내', 'MM'), ('초코','NN'), ('우유', 'NN'), ('에', 'J'), ('는', 'J')]))\n",
    "print(process([('내', 'MM'), ('초코','NN'), ('우유', 'NN'), ('는', 'J')]))\n",
    "print(process([('내', 'MM'), ('제', 'XPN'), ('3', 'SN'), ('초코','NN'), ('우유', 'NN'), ('는', 'J')]))\n",
    "print(process([('내', 'MM'), ('초코','NN'), ('같', 'XSA'), ('은', 'E')]))\n",
    "print(process([('내', 'MM'), ('초코','NN'), ('먹', 'XSV'), ('은', 'E')]))\n",
    "print(process([('내', 'MM'), ('초코','NN'), ('아니', 'VCN'), ('다', 'E')]))\n",
    "print(process([('안', 'MAG'), ('먹', 'VV'), ('는', 'E'), ('다', 'E')]))\n",
    "print(process([('사실', 'NNG'), ('이', 'VCP'), ('다', 'E')]))\n",
    "print(process([('개', 'MM'), ('초', 'MM'), ('초', 'MM'), ('대박', 'NNG'), ('이', 'VCP'), ('ㄴ데', 'EP')]))\n",
    "print(process([['동원', 'NNG'], ['하', 'XSV'], ['아서', 'EC'], ['이', 'VCP'], ['라도', 'EC']]))\n",
    "print(process([('\"', 'SP'), ('내', 'MM'), ('제', 'XPN'), ('3', 'SN'), ('초코','NN'), ('우유', 'NN'), ('\"', 'SP'), ('는', 'J'), (',', 'SP')]))"
   ]
  },
  {
   "cell_type": "code",
   "execution_count": 4,
   "metadata": {
    "collapsed": false
   },
   "outputs": [
    {
     "name": "stdout",
     "output_type": "stream",
     "text": [
      "[['필요', 'NNG'], ['하', 'XSA'], ['다', 'EC'], ['\"', 'SS'], ['고', 'JKQ']]\n",
      "[('필요', 'Noun'), ('하', 'Adjective'), ('다', 'Eomi'), ('고', 'Josa')] \n",
      "\n",
      "[['것', 'NNB'], ['이', 'VCP'], ['다', 'EC'], ['\"', 'SS'], ['라고', 'JKQ']]\n",
      "[('것', 'Noun'), ('이', 'Adjective'), ('다', 'Eomi'), ('라고', 'Josa')] \n",
      "\n",
      "[['중요', 'NNG'], ['하', 'XSA'], ['다', 'EC'], ['\"', 'SS'], ['고', 'JKQ']]\n",
      "[('중요', 'Noun'), ('하', 'Adjective'), ('다', 'Eomi'), ('고', 'Josa')] \n",
      "\n",
      "[['생각', 'NNG'], ['하', 'XSV'], ['ᆫ다', 'EC'], ['\"', 'SS'], ['고', 'JKQ']]\n",
      "[('생각', 'Noun'), ('하', 'Verb'), ('ᆫ다', 'Eomi'), ('고', 'Josa')] \n",
      "\n",
      "[['기대', 'NNG'], ['하', 'XSV'], ['ᆫ다', 'EC'], ['\"', 'SS'], ['고', 'JKQ']]\n",
      "[('기대', 'Noun'), ('하', 'Verb'), ('ᆫ다', 'Eomi'), ('고', 'Josa')] \n",
      "\n",
      "[['것', 'NNB'], ['이', 'VCP'], ['다', 'EC'], ['\"', 'SS'], ['고', 'JKQ']]\n",
      "[('것', 'Noun'), ('이', 'Adjective'), ('다', 'Eomi'), ('고', 'Josa')] \n",
      "\n",
      "[['합의', 'NNG'], ['하', 'XSV'], ['았', 'EP'], ['다', 'EC'], ['\"', 'SS'], ['고', 'JKQ']]\n",
      "[('합의', 'Noun'), ('하', 'Verb'), ('았다', 'Eomi'), ('고', 'Josa')] \n",
      "\n",
      "[['바람직', 'XR'], ['하', 'XSA'], ['다', 'EC'], ['\"', 'SS'], ['고', 'JKQ']]\n",
      "[('바람직', 'Noun'), ('하', 'Adjective'), ('다', 'Eomi'), ('고', 'Josa')] \n",
      "\n",
      "[['필요', 'NNG'], ['하', 'XSA'], ['다', 'EC'], ['\"', 'SS'], ['며', 'EC']]\n",
      "[('필요', 'Noun'), ('하', 'Adjective'), ('다', 'Eomi'), ('며', 'Eomi')] \n",
      "\n",
      "[['결정', 'NNG'], ['하', 'XSV'], ['았', 'EP'], ['다', 'EC'], ['\"', 'SS'], ['고', 'JKQ']]\n",
      "[('결정', 'Noun'), ('하', 'Verb'), ('았다', 'Eomi'), ('고', 'Josa')] \n",
      "\n",
      "[['생각', 'NNG'], ['하', 'XSV'], ['ᆫ다', 'EC'], ['\"', 'SS'], ['며', 'EC']]\n",
      "[('생각', 'Noun'), ('하', 'Verb'), ('ᆫ다', 'Eomi'), ('며', 'Eomi')] \n",
      "\n",
      "[['노력', 'NNG'], ['하', 'XSV'], ['겠', 'EP'], ['다', 'EC'], ['\"', 'SS'], ['고', 'JKQ']]\n",
      "[('노력', 'Noun'), ('하', 'Verb'), ('겠다', 'Eomi'), ('고', 'Josa')] \n",
      "\n",
      "[['시작', 'NNG'], ['하', 'XSV'], ['았', 'EP'], ['다', 'EC'], ['\"', 'SS'], ['고', 'JKQ']]\n",
      "[('시작', 'Noun'), ('하', 'Verb'), ('았다', 'Eomi'), ('고', 'Josa')] \n",
      "\n",
      "[['불가피', 'XR'], ['하', 'XSA'], ['다', 'EC'], ['\"', 'SS'], ['고', 'JKQ']]\n",
      "[('불가피', 'Noun'), ('하', 'Adjective'), ('다', 'Eomi'), ('고', 'Josa')] \n",
      "\n",
      "[['것', 'NNB'], ['이', 'VCP'], ['다', 'EC'], [\"'\", 'SS'], ['라고', 'JKQ']]\n",
      "[('것', 'Noun'), ('이', 'Adjective'), ('다', 'Eomi'), ('라고', 'Josa')] \n",
      "\n",
      "[['시급', 'XR'], ['하', 'XSA'], ['다', 'EC'], ['\"', 'SS'], ['고', 'JKQ']]\n",
      "[('시급', 'Noun'), ('하', 'Adjective'), ('다', 'Eomi'), ('고', 'Josa')] \n",
      "\n",
      "[['예상', 'NNG'], ['되', 'XSV'], ['ᆫ다', 'EC'], ['\"', 'SS'], ['고', 'JKQ']]\n",
      "[('예상', 'Noun'), ('되', 'Verb'), ('ᆫ다', 'Eomi'), ('고', 'Josa')] \n",
      "\n",
      "[['가능', 'NNG'], ['하', 'XSA'], ['다', 'EC'], ['\"', 'SS'], ['고', 'JKQ']]\n",
      "[('가능', 'Noun'), ('하', 'Adjective'), ('다', 'Eomi'), ('고', 'Josa')] \n",
      "\n",
      "[['불', 'XPN'], ['가능', 'NNG'], ['하', 'XSA'], ['다', 'EC'], ['\"', 'SS'], ['고', 'JKQ']]\n",
      "[('불가능', 'Noun'), ('하', 'Adjective'), ('다', 'Eomi'), ('고', 'Josa')] \n",
      "\n",
      "[['판단', 'NNG'], ['되', 'XSV'], ['ᆫ다', 'EC'], ['\"', 'SS'], ['고', 'JKQ']]\n",
      "[('판단', 'Noun'), ('되', 'Verb'), ('ᆫ다', 'Eomi'), ('고', 'Josa')] \n",
      "\n",
      "[['아니', 'VCN'], ['다', 'EC'], ['\"', 'SS'], ['이', 'VCP'], ['라는', 'ETM']]\n",
      "[('아니', 'Verb'), ('다', 'Eomi'), ('이', 'Adjective'), ('라는', 'Eomi')] \n",
      "\n",
      "[['인정', 'NNG'], ['되', 'XSV'], ['ᆫ다', 'EC'], ['\"', 'SS'], ['고', 'JKQ']]\n",
      "[('인정', 'Noun'), ('되', 'Verb'), ('ᆫ다', 'Eomi'), ('고', 'Josa')] \n",
      "\n",
      "[['생각', 'NNG'], ['하', 'XSV'], ['았', 'EP'], ['다', 'EC'], ['\"', 'SS'], ['고', 'JKQ']]\n",
      "[('생각', 'Noun'), ('하', 'Verb'), ('았다', 'Eomi'), ('고', 'Josa')] \n",
      "\n",
      "[['것', 'NNB'], ['이', 'VCP'], ['다', 'EC'], [\"'\", 'SS'], ['이', 'VCP'], ['라는', 'ETM']]\n",
      "[('것', 'Noun'), ('이', 'Adjective'), ('다', 'Eomi'), ('이', 'Adjective'), ('라는', 'Eomi')] \n",
      "\n",
      "[['추정', 'NNG'], ['되', 'XSV'], ['ᆫ다', 'EC'], ['\"', 'SS'], ['고', 'JKQ']]\n",
      "[('추정', 'Noun'), ('되', 'Verb'), ('ᆫ다', 'Eomi'), ('고', 'Josa')] \n",
      "\n",
      "[['마련', 'NNG'], ['하', 'XSV'], ['겠', 'EP'], ['다', 'EC'], ['\"', 'SS'], ['고', 'JKQ']]\n",
      "[('마련', 'Noun'), ('하', 'Verb'), ('겠다', 'Eomi'), ('고', 'Josa')] \n",
      "\n",
      "[['말', 'NNG'], ['하', 'XSV'], ['았', 'EP'], ['다', 'EC'], ['\"', 'SS'], ['고', 'JKQ']]\n",
      "[('말', 'Noun'), ('하', 'Verb'), ('았다', 'Eomi'), ('고', 'Josa')] \n",
      "\n",
      "[['무엇', 'NP'], ['이', 'VCP'], ['ᆫ가', 'EC'], [\"'\", 'SS'], ['를', 'JKO']]\n",
      "[('무엇', 'Noun'), ('이', 'Adjective'), ('ᆫ가', 'Eomi'), ('를', 'Josa')] \n",
      "\n",
      "[['것', 'NNB'], ['이', 'VCP'], ['다', 'EC'], ['\"', 'SS'], ['이', 'VCP'], ['라는', 'ETM']]\n",
      "[('것', 'Noun'), ('이', 'Adjective'), ('다', 'Eomi'), ('이', 'Adjective'), ('라는', 'Eomi')] \n",
      "\n",
      "[['확인', 'NNG'], ['되', 'XSV'], ['었', 'EP'], ['다', 'EC'], ['\"', 'SS'], ['고', 'JKQ']]\n",
      "[('확인', 'Noun'), ('되', 'Verb'), ('었다', 'Eomi'), ('고', 'Josa')] \n",
      "\n",
      "45\n"
     ]
    }
   ],
   "source": [
    "from collections import defaultdict\n",
    "counter = defaultdict(lambda: defaultdict(lambda: 0))\n",
    "\n",
    "n_error = 0\n",
    "n_print = 0\n",
    "with open('../../sejong/data/processed/lr/tokentable.txt', encoding='utf-8') as f:\n",
    "    for i, line in enumerate(f):\n",
    "        col = line.split('\\t')\n",
    "        if not (len(col) == 3):\n",
    "            continue\n",
    "        pos = col[1].split('+')\n",
    "        pos = [p for p in pos if p and not (p[0] == '/')]\n",
    "        if len(pos) == 1: continue\n",
    "        pos = [p.split('/') for p in pos]\n",
    "        if not pos:\n",
    "            continue\n",
    "        if '/SF' in col[1] or '/SP' in col[1]: continue\n",
    "        try:\n",
    "            pos = process(pos)\n",
    "            if len(pos) > 3:\n",
    "                n_print += 1\n",
    "                print([p.split('/') for p in col[1].split('+')])\n",
    "                print(pos, '\\n')\n",
    "                if n_print >= 30: break\n",
    "            for word,tag in pos:\n",
    "                counter[tag][word] += 1\n",
    "        except:\n",
    "            n_error += 1\n",
    "        if n_error > 1000: break\n",
    "print(n_error)"
   ]
  },
  {
   "cell_type": "code",
   "execution_count": null,
   "metadata": {
    "collapsed": true
   },
   "outputs": [],
   "source": []
  }
 ],
 "metadata": {
  "anaconda-cloud": {},
  "kernelspec": {
   "display_name": "Python [lovit]",
   "language": "python",
   "name": "Python [lovit]"
  },
  "language_info": {
   "codemirror_mode": {
    "name": "ipython",
    "version": 3
   },
   "file_extension": ".py",
   "mimetype": "text/x-python",
   "name": "python",
   "nbconvert_exporter": "python",
   "pygments_lexer": "ipython3",
   "version": "3.5.2"
  }
 },
 "nbformat": 4,
 "nbformat_minor": 0
}
